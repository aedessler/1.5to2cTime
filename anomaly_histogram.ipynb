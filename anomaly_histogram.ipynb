{
  "cells": [
    {
      "cell_type": "markdown",
      "metadata": {
        "vscode": {
          "languageId": "raw"
        }
      },
      "source": [
        "# Climate Model Warming Analysis\n",
        "\n",
        "This notebook analyzes climate model data to understand the time difference between reaching 1.5°C and 2.0°C warming thresholds across different CMIP (Coupled Model Intercomparison Project) models.\n",
        "\n",
        "## Overview\n",
        "- Loads temperature data from CSV file\n",
        "- Calculates temperature anomalies relative to 1850-1900 baseline\n",
        "- Identifies when each model crosses 1.5°C and 2.0°C thresholds\n",
        "- Visualizes the distribution of time differences between thresholds\n"
      ]
    },
    {
      "cell_type": "code",
      "execution_count": 1,
      "metadata": {},
      "outputs": [],
      "source": [
        "# Import required libraries\n",
        "import csv\n",
        "from collections import defaultdict\n",
        "import matplotlib.pyplot as plt\n"
      ]
    },
    {
      "cell_type": "markdown",
      "metadata": {
        "vscode": {
          "languageId": "raw"
        }
      },
      "source": [
        "## Data Loading\n",
        "The following cell loads temperature data from the CSV file. The file is expected to have:\n",
        "- First column: Years\n",
        "- Subsequent columns: Temperature data for different climate models\n",
        "- Header row with model names\n"
      ]
    },
    {
      "cell_type": "code",
      "execution_count": 2,
      "metadata": {},
      "outputs": [],
      "source": [
        "# Load data from CSV file\n",
        "with open('annual_global_averages.csv', newline='') as f:\n",
        "    reader = csv.reader(f)\n",
        "    header = next(reader)\n",
        "    # first column is year\n",
        "    years = []\n",
        "    data = defaultdict(list)\n",
        "    for row in reader:\n",
        "        year = int(row[0])\n",
        "        years.append(year)\n",
        "        for col_name, value in zip(header[1:], row[1:]):\n",
        "            if value:\n",
        "                data[col_name].append(float(value))\n",
        "            else:\n",
        "                data[col_name].append(float('nan'))\n"
      ]
    },
    {
      "cell_type": "markdown",
      "metadata": {
        "vscode": {
          "languageId": "raw"
        }
      },
      "source": [
        "## Baseline Calculation\n",
        "Calculate the baseline temperature for each model using the 1850-1900 period, following IPCC guidelines. This baseline will be used to compute temperature anomalies.\n"
      ]
    },
    {
      "cell_type": "code",
      "execution_count": 3,
      "metadata": {},
      "outputs": [],
      "source": [
        "# Calculate baseline averages for 1850-1900 period\n",
        "baseline_indices = [i for i, y in enumerate(years) if 1850 <= y <= 1900]\n",
        "baseline_avgs = {}\n",
        "for model, temps in data.items():\n",
        "    subset = [temps[i] for i in baseline_indices if i < len(temps)]\n",
        "    baseline_avgs[model] = sum(subset) / len(subset)\n"
      ]
    },
    {
      "cell_type": "markdown",
      "metadata": {
        "vscode": {
          "languageId": "raw"
        }
      },
      "source": [
        "## Threshold Analysis\n",
        "For each model:\n",
        "1. Calculate temperature anomalies relative to the baseline\n",
        "2. Find the year when warming first exceeds 1.5°C\n",
        "3. Find the year when warming first exceeds 2.0°C\n",
        "4. Calculate the time difference between these thresholds\n"
      ]
    },
    {
      "cell_type": "code",
      "execution_count": 4,
      "metadata": {},
      "outputs": [],
      "source": [
        "# Compute time differences between 1.5°C and 2.0°C thresholds\n",
        "diffs = []\n",
        "for model, temps in data.items():\n",
        "    baseline = baseline_avgs[model]\n",
        "    anomalies = [t - baseline for t in temps]\n",
        "    year_15 = None\n",
        "    year_20 = None\n",
        "    for yr, val in zip(years, anomalies):\n",
        "        if year_15 is None and val >= 1.5:\n",
        "            year_15 = yr\n",
        "        if year_20 is None and val >= 2.0:\n",
        "            year_20 = yr\n",
        "        if year_15 is not None and year_20 is not None:\n",
        "            break\n",
        "    if year_15 is not None and year_20 is not None:\n",
        "        diffs.append(year_20 - year_15)\n"
      ]
    },
    {
      "cell_type": "markdown",
      "metadata": {
        "vscode": {
          "languageId": "raw"
        }
      },
      "source": [
        "## Visualization\n",
        "Create a histogram showing the distribution of time differences between reaching the 1.5°C and 2.0°C warming thresholds across all models. This visualization helps understand the expected pace of warming in the critical range between these two important temperature thresholds.\n"
      ]
    },
    {
      "cell_type": "code",
      "execution_count": 5,
      "metadata": {},
      "outputs": [
        {
          "data": {
            "image/png": "[encoded data removed]",
            "text/plain": [
              "<Figure size 1000x600 with 1 Axes>"
            ]
          },
          "metadata": {},
          "output_type": "display_data"
        }
      ],
      "source": [
        "# Create histogram of time differences\n",
        "if diffs:\n",
        "    plt.figure(figsize=(10, 6))\n",
        "    plt.hist(diffs, bins=10, edgecolor='black')\n",
        "    plt.xlabel('Years between 1.5°C and 2.0°C thresholds')\n",
        "    plt.ylabel('Number of models')\n",
        "    plt.title('Warming Rate in CMIP Models')\n",
        "    plt.grid(True, alpha=0.3)\n",
        "    plt.show()\n",
        "else:\n",
        "    print('No models reach both thresholds')\n"
      ]
    },
    {
      "cell_type": "raw",
      "metadata": {
        "vscode": {
          "languageId": "raw"
        }
      },
      "source": [
        "## Detailed Analysis of Fastest and Slowest Warming Models\n",
        "Let's identify and visualize the models that show the shortest and longest time periods between reaching 1.5°C and 2.0°C warming thresholds. This will help us understand the range of warming trajectories in the model ensemble.\n"
      ]
    },
    {
      "cell_type": "code",
      "execution_count": null,
      "metadata": {},
      "outputs": [],
      "source": [
        "# Find models with shortest and longest periods between thresholds\n",
        "model_periods = []\n",
        "model_anomalies = {}\n",
        "\n",
        "for model, temps in data.items():\n",
        "    baseline = baseline_avgs[model]\n",
        "    anomalies = [t - baseline for t in temps]\n",
        "    model_anomalies[model] = anomalies\n",
        "    \n",
        "    year_15 = None\n",
        "    year_20 = None\n",
        "    \n",
        "    for yr, val in zip(years, anomalies):\n",
        "        if year_15 is None and val >= 1.5:\n",
        "            year_15 = yr\n",
        "        if year_20 is None and val >= 2.0:\n",
        "            year_20 = yr\n",
        "        if year_15 is not None and year_20 is not None:\n",
        "            break\n",
        "            \n",
        "    if year_15 is not None and year_20 is not None:\n",
        "        period = year_20 - year_15\n",
        "        model_periods.append((model, period, year_15, year_20))\n",
        "\n",
        "if model_periods:\n",
        "    # Sort by period length\n",
        "    model_periods.sort(key=lambda x: x[1])\n",
        "    \n",
        "    # Get fastest and slowest models\n",
        "    fastest_model, fastest_period, fast_y15, fast_y20 = model_periods[0]\n",
        "    slowest_model, slowest_period, slow_y15, slow_y20 = model_periods[-1]\n",
        "    \n",
        "    print(f\"Fastest warming model: {fastest_model}\")\n",
        "    print(f\"Time between 1.5°C and 2.0°C: {fastest_period} years\")\n",
        "    print(f\"Years reached: {fast_y15} and {fast_y20}\")\n",
        "    print(\"\\n\")\n",
        "    print(f\"Slowest warming model: {slowest_model}\")\n",
        "    print(f\"Time between 1.5°C and 2.0°C: {slowest_period} years\")\n",
        "    print(f\"Years reached: {slow_y15} and {slow_y20}\")\n",
        "else:\n",
        "    print(\"No models reach both thresholds\")\n"
      ]
    },
    {
      "cell_type": "raw",
      "metadata": {
        "vscode": {
          "languageId": "raw"
        }
      },
      "source": [
        "## Visualization of Temperature Anomalies\n",
        "Plot the temperature anomalies for the fastest and slowest warming models to compare their trajectories. This will help visualize how different the warming patterns are between these extreme cases.\n"
      ]
    },
    {
      "cell_type": "code",
      "execution_count": null,
      "metadata": {},
      "outputs": [],
      "source": [
        "if model_periods:\n",
        "    plt.figure(figsize=(12, 6))\n",
        "    \n",
        "    # Plot fastest model\n",
        "    plt.plot(years, model_anomalies[fastest_model], 'r-', label=f'Fastest ({fastest_model})')\n",
        "    plt.axvline(x=fast_y15, color='r', linestyle='--', alpha=0.3)\n",
        "    plt.axvline(x=fast_y20, color='r', linestyle='--', alpha=0.3)\n",
        "    \n",
        "    # Plot slowest model\n",
        "    plt.plot(years, model_anomalies[slowest_model], 'b-', label=f'Slowest ({slowest_model})')\n",
        "    plt.axvline(x=slow_y15, color='b', linestyle='--', alpha=0.3)\n",
        "    plt.axvline(x=slow_y20, color='b', linestyle='--', alpha=0.3)\n",
        "    \n",
        "    # Add threshold lines\n",
        "    plt.axhline(y=1.5, color='gray', linestyle=':', alpha=0.5, label='1.5°C threshold')\n",
        "    plt.axhline(y=2.0, color='gray', linestyle=':', alpha=0.5, label='2.0°C threshold')\n",
        "    \n",
        "    plt.xlabel('Year')\n",
        "    plt.ylabel('Temperature Anomaly (°C)')\n",
        "    plt.title('Temperature Anomalies: Fastest vs Slowest Warming Models')\n",
        "    plt.grid(True, alpha=0.3)\n",
        "    plt.legend()\n",
        "    \n",
        "    # Add annotations for crossing points\n",
        "    plt.annotate(f'{fast_y15}', (fast_y15, 1.5), xytext=(10, 10), \n",
        "                textcoords='offset points', color='r', alpha=0.7)\n",
        "    plt.annotate(f'{fast_y20}', (fast_y20, 2.0), xytext=(10, 10), \n",
        "                textcoords='offset points', color='r', alpha=0.7)\n",
        "    plt.annotate(f'{slow_y15}', (slow_y15, 1.5), xytext=(-10, -10), \n",
        "                textcoords='offset points', color='b', alpha=0.7)\n",
        "    plt.annotate(f'{slow_y20}', (slow_y20, 2.0), xytext=(-10, -10), \n",
        "                textcoords='offset points', color='b', alpha=0.7)\n",
        "    \n",
        "    plt.show()\n",
        "else:\n",
        "    print(\"No models to plot\")\n"
      ]
    },
    {
      "cell_type": "code",
      "execution_count": null,
      "metadata": {},
      "outputs": [],
      "source": []
    }
  ],
  "metadata": {
    "kernelspec": {
      "display_name": "base",
      "language": "python",
      "name": "python3"
    },
    "language_info": {
      "codemirror_mode": {
        "name": "ipython",
        "version": 3
      },
      "file_extension": ".py",
      "mimetype": "text/x-python",
      "name": "python",
      "nbconvert_exporter": "python",
      "pygments_lexer": "ipython3",
      "version": "3.12.2"
    }
  },
  "nbformat": 4,
  "nbformat_minor": 2
}
